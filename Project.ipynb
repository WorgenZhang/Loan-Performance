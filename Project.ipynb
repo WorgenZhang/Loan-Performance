{
 "cells": [
  {
   "cell_type": "markdown",
   "metadata": {},
   "source": [
    "<img style=\"width:100%\" src=\"title.png\" />"
   ]
  },
  {
   "cell_type": "markdown",
   "metadata": {},
   "source": [
    "### Category:\n",
    "\n",
    "- <a href=\"#Description\">Description</a>\n",
    "- <a href=\"#Data Exploration\">Data Exploration</a>\n",
    "- <a href='#Data Reduction'>Data Reduction</a>\n",
    "- <a href='#Feature Engineering'>Feature Engineering</a>\n",
    "- <a href='#Encoding'>Encoding</a>\n",
    "- <a href='#Implementing Algorithms'>Implementing Algorithms</a>"
   ]
  },
  {
   "cell_type": "markdown",
   "metadata": {},
   "source": [
    "### Description <a name='Description' />\n",
    "The competition is to predict repeat buyers (those who redeem a coupon and purchase that product afterwards). For this we have the labelled data (did become repeat buyer, did not become repeat buyer) for about 160,000 shoppers (the trainHistory set).\n",
    "\n",
    "Our task is to predict the labels for about 150,000 other shoppers (the testHisotory set). For this we can use a file called transactions.csv. It’s a huge file (unzipped about 22GB) containing nearly 350 million rows. The total amount spend in the transaction data is nearing 1.5 billion."
   ]
  },
  {
   "cell_type": "markdown",
   "metadata": {},
   "source": [
    "### Data Exploration <a name='Data Exploration' />\n",
    "\n",
    "We use a sample dataset with only a few shoppers to explore the transaction data."
   ]
  },
  {
   "cell_type": "code",
   "execution_count": 356,
   "metadata": {
    "collapsed": false
   },
   "outputs": [],
   "source": [
    "import numpy as np \n",
    "import pandas as pd\n",
    "from datetime import datetime"
   ]
  },
  {
   "cell_type": "code",
   "execution_count": 359,
   "metadata": {
    "collapsed": true
   },
   "outputs": [],
   "source": [
    "sample = pd.read_csv('sample.csv')"
   ]
  },
  {
   "cell_type": "code",
   "execution_count": 360,
   "metadata": {
    "collapsed": false
   },
   "outputs": [
    {
     "data": {
      "text/html": [
       "<div>\n",
       "<style>\n",
       "    .dataframe thead tr:only-child th {\n",
       "        text-align: right;\n",
       "    }\n",
       "\n",
       "    .dataframe thead th {\n",
       "        text-align: left;\n",
       "    }\n",
       "\n",
       "    .dataframe tbody tr th {\n",
       "        vertical-align: top;\n",
       "    }\n",
       "</style>\n",
       "<table border=\"1\" class=\"dataframe\">\n",
       "  <thead>\n",
       "    <tr style=\"text-align: right;\">\n",
       "      <th></th>\n",
       "      <th>id</th>\n",
       "      <th>chain</th>\n",
       "      <th>dept</th>\n",
       "      <th>category</th>\n",
       "      <th>company</th>\n",
       "      <th>brand</th>\n",
       "      <th>date</th>\n",
       "      <th>productsize</th>\n",
       "      <th>productmeasure</th>\n",
       "      <th>purchasequantity</th>\n",
       "      <th>purchaseamount</th>\n",
       "    </tr>\n",
       "  </thead>\n",
       "  <tbody>\n",
       "    <tr>\n",
       "      <th>0</th>\n",
       "      <td>86246</td>\n",
       "      <td>205</td>\n",
       "      <td>7</td>\n",
       "      <td>707</td>\n",
       "      <td>1078778070</td>\n",
       "      <td>12564</td>\n",
       "      <td>2012-03-02</td>\n",
       "      <td>12.0</td>\n",
       "      <td>OZ</td>\n",
       "      <td>1</td>\n",
       "      <td>7.59</td>\n",
       "    </tr>\n",
       "    <tr>\n",
       "      <th>1</th>\n",
       "      <td>86246</td>\n",
       "      <td>205</td>\n",
       "      <td>63</td>\n",
       "      <td>6319</td>\n",
       "      <td>107654575</td>\n",
       "      <td>17876</td>\n",
       "      <td>2012-03-02</td>\n",
       "      <td>64.0</td>\n",
       "      <td>OZ</td>\n",
       "      <td>1</td>\n",
       "      <td>1.59</td>\n",
       "    </tr>\n",
       "    <tr>\n",
       "      <th>2</th>\n",
       "      <td>86246</td>\n",
       "      <td>205</td>\n",
       "      <td>97</td>\n",
       "      <td>9753</td>\n",
       "      <td>1022027929</td>\n",
       "      <td>0</td>\n",
       "      <td>2012-03-02</td>\n",
       "      <td>1.0</td>\n",
       "      <td>CT</td>\n",
       "      <td>1</td>\n",
       "      <td>5.99</td>\n",
       "    </tr>\n",
       "    <tr>\n",
       "      <th>3</th>\n",
       "      <td>86246</td>\n",
       "      <td>205</td>\n",
       "      <td>25</td>\n",
       "      <td>2509</td>\n",
       "      <td>107996777</td>\n",
       "      <td>31373</td>\n",
       "      <td>2012-03-02</td>\n",
       "      <td>16.0</td>\n",
       "      <td>OZ</td>\n",
       "      <td>1</td>\n",
       "      <td>1.99</td>\n",
       "    </tr>\n",
       "    <tr>\n",
       "      <th>4</th>\n",
       "      <td>86246</td>\n",
       "      <td>205</td>\n",
       "      <td>55</td>\n",
       "      <td>5555</td>\n",
       "      <td>107684070</td>\n",
       "      <td>32094</td>\n",
       "      <td>2012-03-02</td>\n",
       "      <td>16.0</td>\n",
       "      <td>OZ</td>\n",
       "      <td>2</td>\n",
       "      <td>10.38</td>\n",
       "    </tr>\n",
       "  </tbody>\n",
       "</table>\n",
       "</div>"
      ],
      "text/plain": [
       "      id  chain  dept  category     company  brand        date  productsize  \\\n",
       "0  86246    205     7       707  1078778070  12564  2012-03-02         12.0   \n",
       "1  86246    205    63      6319   107654575  17876  2012-03-02         64.0   \n",
       "2  86246    205    97      9753  1022027929      0  2012-03-02          1.0   \n",
       "3  86246    205    25      2509   107996777  31373  2012-03-02         16.0   \n",
       "4  86246    205    55      5555   107684070  32094  2012-03-02         16.0   \n",
       "\n",
       "  productmeasure  purchasequantity  purchaseamount  \n",
       "0             OZ                 1            7.59  \n",
       "1             OZ                 1            1.59  \n",
       "2             CT                 1            5.99  \n",
       "3             OZ                 1            1.99  \n",
       "4             OZ                 2           10.38  "
      ]
     },
     "execution_count": 360,
     "metadata": {},
     "output_type": "execute_result"
    }
   ],
   "source": [
    "sample.head()"
   ]
  },
  {
   "cell_type": "markdown",
   "metadata": {},
   "source": [
    "### Data Reduction <a name='Data Reduction' />\n",
    "\n",
    "- Chosing transactions from only **chain=4**. Output into a new file \"reduced2.csv\"\n",
    "- Keeping data only from 1 year from \"reduced2.csv\". Output into a new file \"data_s.csv\"\n",
    "- Using only customers in trainHistory which have at least one transaction in the reduced transaction dataset\n",
    "- Inner join train_reduced & \"offers.csv\" on offer. Output into a new file \"combine.csv\""
   ]
  },
  {
   "cell_type": "code",
   "execution_count": 41,
   "metadata": {
    "collapsed": false
   },
   "outputs": [],
   "source": [
    "loc_transactions = \"transactions.csv\"\n",
    "loc_reduced = \"reduced2.csv\"  #Output file \n",
    "def reduce_data(loc_transactions, loc_reduced):\n",
    "    with open(loc_reduced, \"wb\") as outfile:\n",
    "        for e, line in enumerate( open(loc_transactions) ):\n",
    "            if line.split(\",\")[1] in ['4']:  # If you want larger data, use ['2,'4','8'] instead of ['4'].\n",
    "                outfile.write( line )\n",
    "\n",
    "reduce_data(loc_transactions, loc_reduced)\n",
    "#reduced2.csv contains transactions from chain_id = 4 (Only one chain).\n",
    "#redcued2.csv is your new transactions data. Use customers in this transaction data to build a model."
   ]
  },
  {
   "cell_type": "code",
   "execution_count": 96,
   "metadata": {
    "collapsed": false,
    "scrolled": true
   },
   "outputs": [],
   "source": [
    "import pandas as pd\n",
    "data=pd.read_csv(\"reduced2.csv\",header=None,names=[\"id\",\"chain\",\"dept\",'category','company','brand','date','productsize','productmeasure','productquantity','productamount'])"
   ]
  },
  {
   "cell_type": "code",
   "execution_count": 364,
   "metadata": {
    "collapsed": false
   },
   "outputs": [
    {
     "name": "stdout",
     "output_type": "stream",
     "text": [
      "[4]\n"
     ]
    }
   ],
   "source": [
    "print data.chain.unique()"
   ]
  },
  {
   "cell_type": "code",
   "execution_count": 376,
   "metadata": {
    "collapsed": true
   },
   "outputs": [],
   "source": [
    "##########################################"
   ]
  },
  {
   "cell_type": "code",
   "execution_count": 362,
   "metadata": {
    "collapsed": false
   },
   "outputs": [],
   "source": [
    "#Keeping data only from 1 year from \"reduced2.csv\"\n",
    "drops=[]\n",
    "for i in range(len(data.id)):\n",
    "    dates=data.date[i].strip().split('-')\n",
    "    if (dates[0]=='2012' and int(dates[1])>=5) or (dates[0]=='2013' and int(dates[1])<5):\n",
    "        a=1\n",
    "    else:\n",
    "        drops.append(data.index[i])\n",
    "        \n",
    "data_s=data.drop(drops)\n",
    "data_s.reset_index(inplace=True,drop=True)"
   ]
  },
  {
   "cell_type": "code",
   "execution_count": 99,
   "metadata": {
    "collapsed": true
   },
   "outputs": [],
   "source": [
    "data_s.to_csv('data_s.csv',index=False)"
   ]
  },
  {
   "cell_type": "code",
   "execution_count": 365,
   "metadata": {
    "collapsed": false
   },
   "outputs": [
    {
     "data": {
      "text/html": [
       "<div>\n",
       "<style>\n",
       "    .dataframe thead tr:only-child th {\n",
       "        text-align: right;\n",
       "    }\n",
       "\n",
       "    .dataframe thead th {\n",
       "        text-align: left;\n",
       "    }\n",
       "\n",
       "    .dataframe tbody tr th {\n",
       "        vertical-align: top;\n",
       "    }\n",
       "</style>\n",
       "<table border=\"1\" class=\"dataframe\">\n",
       "  <thead>\n",
       "    <tr style=\"text-align: right;\">\n",
       "      <th></th>\n",
       "      <th>id</th>\n",
       "      <th>chain</th>\n",
       "      <th>dept</th>\n",
       "      <th>category</th>\n",
       "      <th>company</th>\n",
       "      <th>brand</th>\n",
       "      <th>date</th>\n",
       "      <th>productsize</th>\n",
       "      <th>productmeasure</th>\n",
       "      <th>productquantity</th>\n",
       "      <th>productamount</th>\n",
       "    </tr>\n",
       "  </thead>\n",
       "  <tbody>\n",
       "    <tr>\n",
       "      <th>0</th>\n",
       "      <td>12524696</td>\n",
       "      <td>4</td>\n",
       "      <td>58</td>\n",
       "      <td>5825</td>\n",
       "      <td>102113020</td>\n",
       "      <td>15704</td>\n",
       "      <td>2012-05-03</td>\n",
       "      <td>14.00</td>\n",
       "      <td>OZ</td>\n",
       "      <td>2</td>\n",
       "      <td>5.70</td>\n",
       "    </tr>\n",
       "    <tr>\n",
       "      <th>1</th>\n",
       "      <td>12524696</td>\n",
       "      <td>4</td>\n",
       "      <td>9</td>\n",
       "      <td>907</td>\n",
       "      <td>102113020</td>\n",
       "      <td>15704</td>\n",
       "      <td>2012-05-03</td>\n",
       "      <td>16.00</td>\n",
       "      <td>OZ</td>\n",
       "      <td>1</td>\n",
       "      <td>1.69</td>\n",
       "    </tr>\n",
       "    <tr>\n",
       "      <th>2</th>\n",
       "      <td>12524696</td>\n",
       "      <td>4</td>\n",
       "      <td>4</td>\n",
       "      <td>419</td>\n",
       "      <td>1074759979</td>\n",
       "      <td>7168</td>\n",
       "      <td>2012-05-03</td>\n",
       "      <td>3.17</td>\n",
       "      <td>OZ</td>\n",
       "      <td>1</td>\n",
       "      <td>1.70</td>\n",
       "    </tr>\n",
       "    <tr>\n",
       "      <th>3</th>\n",
       "      <td>12524696</td>\n",
       "      <td>4</td>\n",
       "      <td>55</td>\n",
       "      <td>5567</td>\n",
       "      <td>107064070</td>\n",
       "      <td>19704</td>\n",
       "      <td>2012-05-07</td>\n",
       "      <td>21.00</td>\n",
       "      <td>OZ</td>\n",
       "      <td>2</td>\n",
       "      <td>7.00</td>\n",
       "    </tr>\n",
       "    <tr>\n",
       "      <th>4</th>\n",
       "      <td>12524696</td>\n",
       "      <td>4</td>\n",
       "      <td>55</td>\n",
       "      <td>5567</td>\n",
       "      <td>107064070</td>\n",
       "      <td>19704</td>\n",
       "      <td>2012-05-07</td>\n",
       "      <td>24.00</td>\n",
       "      <td>OZ</td>\n",
       "      <td>1</td>\n",
       "      <td>3.50</td>\n",
       "    </tr>\n",
       "  </tbody>\n",
       "</table>\n",
       "</div>"
      ],
      "text/plain": [
       "         id  chain  dept  category     company  brand        date  \\\n",
       "0  12524696      4    58      5825   102113020  15704  2012-05-03   \n",
       "1  12524696      4     9       907   102113020  15704  2012-05-03   \n",
       "2  12524696      4     4       419  1074759979   7168  2012-05-03   \n",
       "3  12524696      4    55      5567   107064070  19704  2012-05-07   \n",
       "4  12524696      4    55      5567   107064070  19704  2012-05-07   \n",
       "\n",
       "   productsize productmeasure  productquantity  productamount  \n",
       "0        14.00             OZ                2           5.70  \n",
       "1        16.00             OZ                1           1.69  \n",
       "2         3.17             OZ                1           1.70  \n",
       "3        21.00             OZ                2           7.00  \n",
       "4        24.00             OZ                1           3.50  "
      ]
     },
     "execution_count": 365,
     "metadata": {},
     "output_type": "execute_result"
    }
   ],
   "source": [
    "data_s.head()"
   ]
  },
  {
   "cell_type": "code",
   "execution_count": 378,
   "metadata": {
    "collapsed": true
   },
   "outputs": [],
   "source": [
    "##########################################"
   ]
  },
  {
   "cell_type": "code",
   "execution_count": 371,
   "metadata": {
    "collapsed": true
   },
   "outputs": [],
   "source": [
    "train = pd.read_csv('trainHistory.csv')\n",
    "test = pd.read_csv('testHistory.csv')\n",
    "offer = pd.read_csv('offers.csv')\n",
    "data_s = pd.read_csv('data_s.csv')"
   ]
  },
  {
   "cell_type": "code",
   "execution_count": 373,
   "metadata": {
    "collapsed": false
   },
   "outputs": [
    {
     "data": {
      "text/plain": [
       "(1352131, 17)"
      ]
     },
     "execution_count": 373,
     "metadata": {},
     "output_type": "execute_result"
    }
   ],
   "source": [
    "#Inner join data_s and combine on id\n",
    "cust_s_train = pd.merge(data_s,train,on=['id'])\n",
    "cust_s_train.shape"
   ]
  },
  {
   "cell_type": "code",
   "execution_count": 374,
   "metadata": {
    "collapsed": false
   },
   "outputs": [
    {
     "data": {
      "text/plain": [
       "1753"
      ]
     },
     "execution_count": 374,
     "metadata": {},
     "output_type": "execute_result"
    }
   ],
   "source": [
    "unique = cust_s_train.id.unique()\n",
    "len(unique)"
   ]
  },
  {
   "cell_type": "code",
   "execution_count": 375,
   "metadata": {
    "collapsed": false
   },
   "outputs": [
    {
     "data": {
      "text/plain": [
       "(1753, 7)"
      ]
     },
     "execution_count": 375,
     "metadata": {},
     "output_type": "execute_result"
    }
   ],
   "source": [
    "#Use only customers which have at least one transaction in the reduced transaction dataset\n",
    "train_reduced = train[train['id'].isin(unique)]\n",
    "train_reduced.shape"
   ]
  },
  {
   "cell_type": "code",
   "execution_count": 10,
   "metadata": {
    "collapsed": true
   },
   "outputs": [],
   "source": [
    "##########################################"
   ]
  },
  {
   "cell_type": "code",
   "execution_count": 16,
   "metadata": {
    "collapsed": false
   },
   "outputs": [
    {
     "data": {
      "text/html": [
       "<div>\n",
       "<style>\n",
       "    .dataframe thead tr:only-child th {\n",
       "        text-align: right;\n",
       "    }\n",
       "\n",
       "    .dataframe thead th {\n",
       "        text-align: left;\n",
       "    }\n",
       "\n",
       "    .dataframe tbody tr th {\n",
       "        vertical-align: top;\n",
       "    }\n",
       "</style>\n",
       "<table border=\"1\" class=\"dataframe\">\n",
       "  <thead>\n",
       "    <tr style=\"text-align: right;\">\n",
       "      <th></th>\n",
       "      <th>id</th>\n",
       "      <th>chain</th>\n",
       "      <th>offer</th>\n",
       "      <th>market</th>\n",
       "      <th>repeattrips</th>\n",
       "      <th>repeater</th>\n",
       "      <th>offerdate</th>\n",
       "      <th>category</th>\n",
       "      <th>quantity</th>\n",
       "      <th>company</th>\n",
       "      <th>offervalue</th>\n",
       "      <th>brand</th>\n",
       "    </tr>\n",
       "  </thead>\n",
       "  <tbody>\n",
       "    <tr>\n",
       "      <th>0</th>\n",
       "      <td>13807224</td>\n",
       "      <td>4</td>\n",
       "      <td>1204576</td>\n",
       "      <td>1</td>\n",
       "      <td>0</td>\n",
       "      <td>f</td>\n",
       "      <td>2013-04-05</td>\n",
       "      <td>5616</td>\n",
       "      <td>1</td>\n",
       "      <td>104610040</td>\n",
       "      <td>1.0</td>\n",
       "      <td>15889</td>\n",
       "    </tr>\n",
       "    <tr>\n",
       "      <th>1</th>\n",
       "      <td>16138642</td>\n",
       "      <td>4</td>\n",
       "      <td>1204576</td>\n",
       "      <td>1</td>\n",
       "      <td>0</td>\n",
       "      <td>f</td>\n",
       "      <td>2013-04-05</td>\n",
       "      <td>5616</td>\n",
       "      <td>1</td>\n",
       "      <td>104610040</td>\n",
       "      <td>1.0</td>\n",
       "      <td>15889</td>\n",
       "    </tr>\n",
       "    <tr>\n",
       "      <th>2</th>\n",
       "      <td>17888308</td>\n",
       "      <td>4</td>\n",
       "      <td>1204576</td>\n",
       "      <td>1</td>\n",
       "      <td>0</td>\n",
       "      <td>f</td>\n",
       "      <td>2013-04-05</td>\n",
       "      <td>5616</td>\n",
       "      <td>1</td>\n",
       "      <td>104610040</td>\n",
       "      <td>1.0</td>\n",
       "      <td>15889</td>\n",
       "    </tr>\n",
       "    <tr>\n",
       "      <th>3</th>\n",
       "      <td>18277411</td>\n",
       "      <td>4</td>\n",
       "      <td>1204576</td>\n",
       "      <td>1</td>\n",
       "      <td>0</td>\n",
       "      <td>f</td>\n",
       "      <td>2013-04-04</td>\n",
       "      <td>5616</td>\n",
       "      <td>1</td>\n",
       "      <td>104610040</td>\n",
       "      <td>1.0</td>\n",
       "      <td>15889</td>\n",
       "    </tr>\n",
       "    <tr>\n",
       "      <th>4</th>\n",
       "      <td>68451850</td>\n",
       "      <td>4</td>\n",
       "      <td>1204576</td>\n",
       "      <td>1</td>\n",
       "      <td>0</td>\n",
       "      <td>f</td>\n",
       "      <td>2013-04-07</td>\n",
       "      <td>5616</td>\n",
       "      <td>1</td>\n",
       "      <td>104610040</td>\n",
       "      <td>1.0</td>\n",
       "      <td>15889</td>\n",
       "    </tr>\n",
       "  </tbody>\n",
       "</table>\n",
       "</div>"
      ],
      "text/plain": [
       "         id  chain    offer  market  repeattrips repeater   offerdate  \\\n",
       "0  13807224      4  1204576       1            0        f  2013-04-05   \n",
       "1  16138642      4  1204576       1            0        f  2013-04-05   \n",
       "2  17888308      4  1204576       1            0        f  2013-04-05   \n",
       "3  18277411      4  1204576       1            0        f  2013-04-04   \n",
       "4  68451850      4  1204576       1            0        f  2013-04-07   \n",
       "\n",
       "   category  quantity    company  offervalue  brand  \n",
       "0      5616         1  104610040         1.0  15889  \n",
       "1      5616         1  104610040         1.0  15889  \n",
       "2      5616         1  104610040         1.0  15889  \n",
       "3      5616         1  104610040         1.0  15889  \n",
       "4      5616         1  104610040         1.0  15889  "
      ]
     },
     "execution_count": 16,
     "metadata": {},
     "output_type": "execute_result"
    }
   ],
   "source": [
    "#Combine train_reduced & offers.csv on offer\n",
    "combine = pd.merge(train_reduced,offer,on=['offer'])\n",
    "combine.head()"
   ]
  },
  {
   "cell_type": "code",
   "execution_count": 95,
   "metadata": {
    "collapsed": true
   },
   "outputs": [],
   "source": [
    "combine.to_csv('combine.csv',index=False)"
   ]
  },
  {
   "cell_type": "markdown",
   "metadata": {},
   "source": [
    "### Feature Engineering <a name=\"Feature Engineering\" />\n",
    "\n",
    "**A large part of this competition is feature engineering: Creating good indicative features from the purchase history.**\n",
    "\n",
    "We will generate the following features:\n",
    "\n",
    "**total_spend**: the total amount spend by the shopper in the reduced dataset  \n",
    "**total_quant**: the total quantity (number of units) spend by the shopper in the reduced dataset\n",
    "\n",
    "**has_bought_company**: the number of times a shopper has bought from the company on offer    \n",
    "**has_bought_company_a**: the total amount the shopper has bought from the company on offer  \n",
    "**has_bought_company_q**: the quantity of items bought from the company on offer   \n",
    "**has_bought_company_30**: the number of times a shopper has bought from the company on offer in the 30 days before the date the coupon was offered  \n",
    "**has_bought_company_60**: the number of times a shopper has bought from the company on offer in the 60 days before the date the coupon was offered  \n",
    "......   \n",
    "**has_bought_company_180**: 180 days before  \n",
    "\n",
    "\n",
    "These same features for:\n",
    "\n",
    "**has_bought_category**: the number of times a shopper has bought from the category on offer      \n",
    "**has_bought_brand**: the number of times a shopper has bought from the brand on offer    \n",
    "\n",
    "And:\n",
    "\n",
    "**never_bought_company**: a negative feature for when the shopper has never bought from the company on offer before   \n",
    "**never_bought_category**: a negative feature for when the shopper has never bought from the category on offer before  \n",
    "**never_bought_brand**: a negative feature for when the shopper has never bought from the brand on offer before  \n",
    "**has_bought_company_brand_category**: if this feature is present the shopper has bought from the company, brand, and category on offer      \n",
    "**has_bought_brand_category**: if this feature is present the shopper has bought from the brand and category on offer      \n",
    "**has_bought_brand_company**: if this feature is present the shopper has bought from the brand and company on offer  \n"
   ]
  },
  {
   "cell_type": "code",
   "execution_count": 379,
   "metadata": {
    "collapsed": true
   },
   "outputs": [],
   "source": [
    "#Feature Extraction\n",
    "def diff_days(s1,s2):\n",
    "    date_format = \"%Y-%m-%d\"\n",
    "    a = datetime.strptime(s1, date_format)\n",
    "    b = datetime.strptime(s2, date_format)\n",
    "    delta = b - a\n",
    "    return delta.days\n",
    "\n",
    "\n",
    "def extract_features(cust_id):\n",
    "    df = combine.loc[combine.id == cust_id,:]\n",
    "    df = df.reset_index(drop=True)\n",
    "    \n",
    "    offer_category = df.category.values[0]\n",
    "    offer_company = df.company.values[0]\n",
    "    offer_brand = df.brand.values[0]\n",
    "    \n",
    "    data_id = data_s.loc[data_s.id == cust_id,:]\n",
    "    data_id = data_id.reset_index(drop=True)\n",
    "    \n",
    "    \n",
    "    #generate features from transaction record\n",
    "    df['total_spend'] = data_id.productamount.sum()\n",
    "    df['total_quant'] = data_id.productquantity.sum()\n",
    "\n",
    "    df['has_bought_company'] = 0\n",
    "    df['has_bought_company_q'] = 0\n",
    "    df['has_bought_company_a'] = 0\n",
    "    df['has_bought_company_30'] = 0\n",
    "    df['has_bought_company_q_30'] = 0\n",
    "    df['has_bought_company_a_30'] = 0\n",
    "    df['has_bought_company_60'] = 0\n",
    "    df['has_bought_company_q_60'] = 0\n",
    "    df['has_bought_company_a_60'] = 0\n",
    "    df['has_bought_company_90'] = 0\n",
    "    df['has_bought_company_q_90'] = 0\n",
    "    df['has_bought_company_a_90'] = 0\n",
    "    df['has_bought_company_180'] = 0\n",
    "    df['has_bought_company_q_180'] = 0\n",
    "    df['has_bought_company_a_180'] = 0\n",
    "    \n",
    "    df['has_bought_category'] = 0\n",
    "    df['has_bought_category_q'] = 0\n",
    "    df['has_bought_category_a'] = 0\n",
    "    df['has_bought_category_30'] = 0\n",
    "    df['has_bought_category_q_30'] = 0\n",
    "    df['has_bought_category_a_30'] = 0\n",
    "    df['has_bought_category_60'] = 0\n",
    "    df['has_bought_category_q_60'] = 0\n",
    "    df['has_bought_category_a_60'] = 0\n",
    "    df['has_bought_category_90'] = 0\n",
    "    df['has_bought_category_q_90'] = 0\n",
    "    df['has_bought_category_a_90'] = 0\n",
    "    df['has_bought_category_180'] = 0\n",
    "    df['has_bought_category_q_180'] = 0\n",
    "    df['has_bought_category_a_180'] = 0\n",
    "    \n",
    "    df['has_bought_brand'] = 0\n",
    "    df['has_bought_brand_q'] = 0\n",
    "    df['has_bought_brand_a'] = 0\n",
    "    df['has_bought_brand_30'] = 0\n",
    "    df['has_bought_brand_q_30'] = 0\n",
    "    df['has_bought_brand_a_30'] = 0\n",
    "    df['has_bought_brand_60'] = 0\n",
    "    df['has_bought_brand_q_60'] = 0\n",
    "    df['has_bought_brand_a_60'] = 0\n",
    "    df['has_bought_brand_90'] = 0\n",
    "    df['has_bought_brand_q_90'] = 0\n",
    "    df['has_bought_brand_a_90'] = 0\n",
    "    df['has_bought_brand_180'] = 0\n",
    "    df['has_bought_brand_q_180'] = 0\n",
    "    df['has_bought_brand_a_180'] = 0\n",
    "    \n",
    "    for i in range(len(data_id)):\n",
    "        if data_id.loc[i].company == offer_company:\n",
    "            df['has_bought_company'] += 1.0\n",
    "            df['has_bought_company_q'] += float( data_id.loc[i].productquantity )\n",
    "            df['has_bought_company_a'] += float( data_id.loc[i].productamount )\n",
    "\n",
    "            date_diff_days = diff_days(data_id.loc[i].date,df.loc[0].offerdate)\n",
    "            if date_diff_days < 30:\n",
    "                df['has_bought_company_30'] += 1.0\n",
    "                df['has_bought_company_q_30'] += float( data_id.loc[i].productquantity )\n",
    "                df['has_bought_company_a_30'] += float( data_id.loc[i].productamount )\n",
    "                        \n",
    "            if date_diff_days < 60:\n",
    "                df['has_bought_company_60'] += 1.0\n",
    "                df['has_bought_company_q_60'] += float( data_id.loc[i].productquantity )\n",
    "                df['has_bought_company_a_60'] += float( data_id.loc[i].productamount )\n",
    "                        \n",
    "            if date_diff_days < 90:\n",
    "                df['has_bought_company_90'] += 1.0\n",
    "                df['has_bought_company_q_90'] += float( data_id.loc[i].productquantity )\n",
    "                df['has_bought_company_a_90'] += float( data_id.loc[i].productamount )\n",
    "                        \n",
    "            if date_diff_days < 180:\n",
    "                df['has_bought_company_180'] += 1.0\n",
    "                df['has_bought_company_q_180'] += float( data_id.loc[i].productquantity )\n",
    "                df['has_bought_company_a_180'] += float( data_id.loc[i].productamount )\n",
    "\n",
    "                    \n",
    "        if data_id.loc[i].category == offer_category:\n",
    "            df['has_bought_category'] += 1.0\n",
    "            df['has_bought_category_q'] += float( data_id.loc[i].productquantity )\n",
    "            df['has_bought_category_a'] += float( data_id.loc[i].productamount )\n",
    "\n",
    "            date_diff_days = diff_days(data_id.loc[i].date,df.loc[0].offerdate)\n",
    "            if date_diff_days < 30:\n",
    "                df['has_bought_category_30'] += 1.0\n",
    "                df['has_bought_category_q_30'] += float( data_id.loc[i].productquantity )\n",
    "                df['has_bought_category_a_30'] += float( data_id.loc[i].productamount )\n",
    "                        \n",
    "            if date_diff_days < 60:\n",
    "                df['has_bought_category_60'] += 1.0\n",
    "                df['has_bought_category_q_60'] += float( data_id.loc[i].productquantity )\n",
    "                df['has_bought_category_a_60'] += float( data_id.loc[i].productamount )\n",
    "                        \n",
    "            if date_diff_days < 90:\n",
    "                df['has_bought_category_90'] += 1.0\n",
    "                df['has_bought_category_q_90'] += float( data_id.loc[i].productquantity )\n",
    "                df['has_bought_category_a_90'] += float( data_id.loc[i].productamount )\n",
    "                        \n",
    "            if date_diff_days < 180:\n",
    "                df['has_bought_category_180'] += 1.0\n",
    "                df['has_bought_category_q_180'] += float( data_id.loc[i].productquantity )\n",
    "                df['has_bought_category_a_180'] += float( data_id.loc[i].productamount )\n",
    "                   \n",
    "        if data_id.loc[i].brand == offer_brand:\n",
    "            df['has_bought_brand'] += 1.0\n",
    "            df['has_bought_brand_q'] += float( data_id.loc[i].productquantity )\n",
    "            df['has_bought_brand_a'] += float( data_id.loc[i].productamount )\n",
    "\n",
    "            date_diff_days = diff_days(data_id.loc[i].date,df.loc[0].offerdate)\n",
    "            if date_diff_days < 30:\n",
    "                df['has_bought_brand_30'] += 1.0\n",
    "                df['has_bought_brand_q_30'] += float( data_id.loc[i].productquantity )\n",
    "                df['has_bought_brand_a_30'] += float( data_id.loc[i].productamount )\n",
    "                        \n",
    "            if date_diff_days < 60:\n",
    "                df['has_bought_brand_60'] += 1.0\n",
    "                df['has_bought_brand_q_60'] += float( data_id.loc[i].productquantity )\n",
    "                df['has_bought_brand_a_60'] += float( data_id.loc[i].productamount )\n",
    "                        \n",
    "            if date_diff_days < 90:\n",
    "                df['has_bought_brand_90'] += 1.0\n",
    "                df['has_bought_brand_q_90'] += float( data_id.loc[i].productquantity )\n",
    "                df['has_bought_brand_a_90'] += float( data_id.loc[i].productamount )\n",
    "                        \n",
    "            if date_diff_days < 180:\n",
    "                df['has_bought_brand_180'] += 1.0\n",
    "                df['has_bought_brand_q_180'] += float( data_id.loc[i].productquantity )\n",
    "                df['has_bought_brand_a_180'] += float( data_id.loc[i].productamount )\n",
    "                \n",
    "                #last_id = row[0]\n",
    "                #if e % 100000 == 0:\n",
    "                    #print e\n",
    "    \n",
    "    return df"
   ]
  },
  {
   "cell_type": "code",
   "execution_count": 380,
   "metadata": {
    "collapsed": false
   },
   "outputs": [
    {
     "name": "stdout",
     "output_type": "stream",
     "text": [
      "0 0:00:00.868946\n",
      "500 0:04:31.904887\n",
      "1000 0:08:35.793913\n",
      "1500 0:12:53.946410\n"
     ]
    }
   ],
   "source": [
    "#Take 15 minutes to run this code\n",
    "#Create X_features\n",
    "X_features = pd.DataFrame()\n",
    "start_time = datetime.now()\n",
    "for e,cust_id in enumerate(combine.id.values):\n",
    "    X_features = pd.concat([X_features,extract_features(cust_id)])\n",
    "    if e%500 == 0:\n",
    "        print e,datetime.now()-start_time"
   ]
  },
  {
   "cell_type": "code",
   "execution_count": 384,
   "metadata": {
    "collapsed": true
   },
   "outputs": [],
   "source": [
    "X_features['never_bought_company'] = 0\n",
    "X_features['never_bought_category'] = 0\n",
    "X_features['never_bought_brand'] = 0\n",
    "X_features['has_bought_brand_company_category'] = 0\n",
    "X_features['has_bought_brand_category'] = 0\n",
    "X_features['has_bought_brand_company'] = 0\n",
    "\n",
    "X_features = X_features.reset_index(drop=True)"
   ]
  },
  {
   "cell_type": "code",
   "execution_count": 385,
   "metadata": {
    "collapsed": true
   },
   "outputs": [],
   "source": [
    "for i in range(len(X_features)):\n",
    "    #generate negative features\n",
    "    if X_features.loc[i].has_bought_company == 0:\n",
    "        X_features.set_value(i,'never_bought_company',1)\n",
    "\n",
    "    if X_features.loc[i].has_bought_category == 0:\n",
    "        X_features.set_value(i,'never_bought_category',1)\n",
    "        \n",
    "    if X_features.loc[i].has_bought_brand == 0:\n",
    "        X_features.set_value(i,'never_bought_brand',1)\n",
    "\n",
    "    if X_features.loc[i].has_bought_company != 0 and X_features.loc[i].has_bought_category != 0 and X_features.loc[i].has_bought_brand != 0:\n",
    "        X_features.set_value(i,'has_bought_brand_company_category',1) \n",
    "\n",
    "    if X_features.loc[i].has_bought_category != 0 and X_features.loc[i].has_bought_brand != 0:\n",
    "        X_features.set_value(i,'has_bought_brand_category',1)\n",
    "\n",
    "    if X_features.loc[i].has_bought_company != 0 and X_features.loc[i].has_bought_brand != 0:\n",
    "         X_features.set_value(i,'has_bought_brand_company',1)\n"
   ]
  },
  {
   "cell_type": "code",
   "execution_count": 387,
   "metadata": {
    "collapsed": true
   },
   "outputs": [],
   "source": [
    "X_features.to_csv('X_features.csv',index=False)"
   ]
  },
  {
   "cell_type": "code",
   "execution_count": 388,
   "metadata": {
    "collapsed": false
   },
   "outputs": [
    {
     "data": {
      "text/plain": [
       "(1753, 65)"
      ]
     },
     "execution_count": 388,
     "metadata": {},
     "output_type": "execute_result"
    }
   ],
   "source": [
    "X_features.shape"
   ]
  },
  {
   "cell_type": "code",
   "execution_count": 389,
   "metadata": {
    "collapsed": false
   },
   "outputs": [
    {
     "data": {
      "text/html": [
       "<div>\n",
       "<style>\n",
       "    .dataframe thead tr:only-child th {\n",
       "        text-align: right;\n",
       "    }\n",
       "\n",
       "    .dataframe thead th {\n",
       "        text-align: left;\n",
       "    }\n",
       "\n",
       "    .dataframe tbody tr th {\n",
       "        vertical-align: top;\n",
       "    }\n",
       "</style>\n",
       "<table border=\"1\" class=\"dataframe\">\n",
       "  <thead>\n",
       "    <tr style=\"text-align: right;\">\n",
       "      <th></th>\n",
       "      <th>id</th>\n",
       "      <th>chain</th>\n",
       "      <th>offer</th>\n",
       "      <th>market</th>\n",
       "      <th>repeattrips</th>\n",
       "      <th>repeater</th>\n",
       "      <th>offerdate</th>\n",
       "      <th>category</th>\n",
       "      <th>quantity</th>\n",
       "      <th>company</th>\n",
       "      <th>...</th>\n",
       "      <th>has_bought_brand_a_90</th>\n",
       "      <th>has_bought_brand_180</th>\n",
       "      <th>has_bought_brand_q_180</th>\n",
       "      <th>has_bought_brand_a_180</th>\n",
       "      <th>never_bought_company</th>\n",
       "      <th>never_bought_category</th>\n",
       "      <th>never_bought_brand</th>\n",
       "      <th>has_bought_brand_company_category</th>\n",
       "      <th>has_bought_brand_category</th>\n",
       "      <th>has_bought_brand_company</th>\n",
       "    </tr>\n",
       "  </thead>\n",
       "  <tbody>\n",
       "    <tr>\n",
       "      <th>0</th>\n",
       "      <td>13807224</td>\n",
       "      <td>4</td>\n",
       "      <td>1204576</td>\n",
       "      <td>1</td>\n",
       "      <td>0</td>\n",
       "      <td>f</td>\n",
       "      <td>2013-04-05</td>\n",
       "      <td>5616</td>\n",
       "      <td>1</td>\n",
       "      <td>104610040</td>\n",
       "      <td>...</td>\n",
       "      <td>0.00</td>\n",
       "      <td>1.0</td>\n",
       "      <td>1.0</td>\n",
       "      <td>4.49</td>\n",
       "      <td>0</td>\n",
       "      <td>0</td>\n",
       "      <td>0</td>\n",
       "      <td>1</td>\n",
       "      <td>1</td>\n",
       "      <td>1</td>\n",
       "    </tr>\n",
       "    <tr>\n",
       "      <th>1</th>\n",
       "      <td>16138642</td>\n",
       "      <td>4</td>\n",
       "      <td>1204576</td>\n",
       "      <td>1</td>\n",
       "      <td>0</td>\n",
       "      <td>f</td>\n",
       "      <td>2013-04-05</td>\n",
       "      <td>5616</td>\n",
       "      <td>1</td>\n",
       "      <td>104610040</td>\n",
       "      <td>...</td>\n",
       "      <td>3.99</td>\n",
       "      <td>2.0</td>\n",
       "      <td>2.0</td>\n",
       "      <td>8.98</td>\n",
       "      <td>0</td>\n",
       "      <td>1</td>\n",
       "      <td>0</td>\n",
       "      <td>0</td>\n",
       "      <td>0</td>\n",
       "      <td>1</td>\n",
       "    </tr>\n",
       "    <tr>\n",
       "      <th>2</th>\n",
       "      <td>17888308</td>\n",
       "      <td>4</td>\n",
       "      <td>1204576</td>\n",
       "      <td>1</td>\n",
       "      <td>0</td>\n",
       "      <td>f</td>\n",
       "      <td>2013-04-05</td>\n",
       "      <td>5616</td>\n",
       "      <td>1</td>\n",
       "      <td>104610040</td>\n",
       "      <td>...</td>\n",
       "      <td>0.00</td>\n",
       "      <td>0.0</td>\n",
       "      <td>0.0</td>\n",
       "      <td>0.00</td>\n",
       "      <td>1</td>\n",
       "      <td>0</td>\n",
       "      <td>1</td>\n",
       "      <td>0</td>\n",
       "      <td>0</td>\n",
       "      <td>0</td>\n",
       "    </tr>\n",
       "    <tr>\n",
       "      <th>3</th>\n",
       "      <td>18277411</td>\n",
       "      <td>4</td>\n",
       "      <td>1204576</td>\n",
       "      <td>1</td>\n",
       "      <td>0</td>\n",
       "      <td>f</td>\n",
       "      <td>2013-04-04</td>\n",
       "      <td>5616</td>\n",
       "      <td>1</td>\n",
       "      <td>104610040</td>\n",
       "      <td>...</td>\n",
       "      <td>0.00</td>\n",
       "      <td>4.0</td>\n",
       "      <td>5.0</td>\n",
       "      <td>21.45</td>\n",
       "      <td>0</td>\n",
       "      <td>0</td>\n",
       "      <td>0</td>\n",
       "      <td>1</td>\n",
       "      <td>1</td>\n",
       "      <td>1</td>\n",
       "    </tr>\n",
       "    <tr>\n",
       "      <th>4</th>\n",
       "      <td>68451850</td>\n",
       "      <td>4</td>\n",
       "      <td>1204576</td>\n",
       "      <td>1</td>\n",
       "      <td>0</td>\n",
       "      <td>f</td>\n",
       "      <td>2013-04-07</td>\n",
       "      <td>5616</td>\n",
       "      <td>1</td>\n",
       "      <td>104610040</td>\n",
       "      <td>...</td>\n",
       "      <td>0.00</td>\n",
       "      <td>1.0</td>\n",
       "      <td>1.0</td>\n",
       "      <td>3.99</td>\n",
       "      <td>0</td>\n",
       "      <td>1</td>\n",
       "      <td>0</td>\n",
       "      <td>0</td>\n",
       "      <td>0</td>\n",
       "      <td>1</td>\n",
       "    </tr>\n",
       "  </tbody>\n",
       "</table>\n",
       "<p>5 rows × 65 columns</p>\n",
       "</div>"
      ],
      "text/plain": [
       "         id  chain    offer  market  repeattrips repeater   offerdate  \\\n",
       "0  13807224      4  1204576       1            0        f  2013-04-05   \n",
       "1  16138642      4  1204576       1            0        f  2013-04-05   \n",
       "2  17888308      4  1204576       1            0        f  2013-04-05   \n",
       "3  18277411      4  1204576       1            0        f  2013-04-04   \n",
       "4  68451850      4  1204576       1            0        f  2013-04-07   \n",
       "\n",
       "   category  quantity    company            ...             \\\n",
       "0      5616         1  104610040            ...              \n",
       "1      5616         1  104610040            ...              \n",
       "2      5616         1  104610040            ...              \n",
       "3      5616         1  104610040            ...              \n",
       "4      5616         1  104610040            ...              \n",
       "\n",
       "   has_bought_brand_a_90  has_bought_brand_180  has_bought_brand_q_180  \\\n",
       "0                   0.00                   1.0                     1.0   \n",
       "1                   3.99                   2.0                     2.0   \n",
       "2                   0.00                   0.0                     0.0   \n",
       "3                   0.00                   4.0                     5.0   \n",
       "4                   0.00                   1.0                     1.0   \n",
       "\n",
       "   has_bought_brand_a_180  never_bought_company  never_bought_category  \\\n",
       "0                    4.49                     0                      0   \n",
       "1                    8.98                     0                      1   \n",
       "2                    0.00                     1                      0   \n",
       "3                   21.45                     0                      0   \n",
       "4                    3.99                     0                      1   \n",
       "\n",
       "   never_bought_brand  has_bought_brand_company_category  \\\n",
       "0                   0                                  1   \n",
       "1                   0                                  0   \n",
       "2                   1                                  0   \n",
       "3                   0                                  1   \n",
       "4                   0                                  0   \n",
       "\n",
       "   has_bought_brand_category  has_bought_brand_company  \n",
       "0                          1                         1  \n",
       "1                          0                         1  \n",
       "2                          0                         0  \n",
       "3                          1                         1  \n",
       "4                          0                         1  \n",
       "\n",
       "[5 rows x 65 columns]"
      ]
     },
     "execution_count": 389,
     "metadata": {},
     "output_type": "execute_result"
    }
   ],
   "source": [
    "X_features.head()"
   ]
  },
  {
   "cell_type": "code",
   "execution_count": 390,
   "metadata": {
    "collapsed": false
   },
   "outputs": [
    {
     "data": {
      "text/plain": [
       "0    65\n",
       "dtype: int64"
      ]
     },
     "execution_count": 390,
     "metadata": {},
     "output_type": "execute_result"
    }
   ],
   "source": [
    "#Check missing values\n",
    "check = X_features.apply(lambda x: sum(x.isnull()),axis=0)\n",
    "\n",
    "check.value_counts()"
   ]
  },
  {
   "cell_type": "markdown",
   "metadata": {},
   "source": [
    "### Encoding <a name='Encoding' />\n",
    "\n",
    "Encoding the values to category, company, and brand."
   ]
  },
  {
   "cell_type": "code",
   "execution_count": 350,
   "metadata": {
    "collapsed": true
   },
   "outputs": [],
   "source": [
    "X_features = pd.read_csv('X_features.csv')"
   ]
  },
  {
   "cell_type": "code",
   "execution_count": 391,
   "metadata": {
    "collapsed": false
   },
   "outputs": [],
   "source": [
    "#Encoding the values\n",
    "category_uni = X_features.category.unique()\n",
    "for category_val in category_uni:\n",
    "    X_features['category_'+str(category_val)] = 1*(X_features['category'] == category_val)\n",
    "\n",
    "company_uni = X_features.company.unique()\n",
    "for company_val in company_uni:\n",
    "    X_features['company_'+str(company_val)] = 1*(X_features['company'] == company_val)\n",
    "\n",
    "brand_uni = X_features.brand.unique()\n",
    "for brand_val in brand_uni:\n",
    "    X_features['brand_'+str(brand_val)] = 1*(X_features['brand'] == brand_val)\n"
   ]
  },
  {
   "cell_type": "code",
   "execution_count": 392,
   "metadata": {
    "collapsed": false
   },
   "outputs": [
    {
     "data": {
      "text/html": [
       "<div>\n",
       "<style>\n",
       "    .dataframe thead tr:only-child th {\n",
       "        text-align: right;\n",
       "    }\n",
       "\n",
       "    .dataframe thead th {\n",
       "        text-align: left;\n",
       "    }\n",
       "\n",
       "    .dataframe tbody tr th {\n",
       "        vertical-align: top;\n",
       "    }\n",
       "</style>\n",
       "<table border=\"1\" class=\"dataframe\">\n",
       "  <thead>\n",
       "    <tr style=\"text-align: right;\">\n",
       "      <th></th>\n",
       "      <th>id</th>\n",
       "      <th>chain</th>\n",
       "      <th>offer</th>\n",
       "      <th>market</th>\n",
       "      <th>repeattrips</th>\n",
       "      <th>repeater</th>\n",
       "      <th>offerdate</th>\n",
       "      <th>category</th>\n",
       "      <th>quantity</th>\n",
       "      <th>company</th>\n",
       "      <th>...</th>\n",
       "      <th>company_106414464</th>\n",
       "      <th>company_104460040</th>\n",
       "      <th>company_103320030</th>\n",
       "      <th>company_107717272</th>\n",
       "      <th>brand_15889</th>\n",
       "      <th>brand_13474</th>\n",
       "      <th>brand_3718</th>\n",
       "      <th>brand_875</th>\n",
       "      <th>brand_102504</th>\n",
       "      <th>brand_7668</th>\n",
       "    </tr>\n",
       "  </thead>\n",
       "  <tbody>\n",
       "    <tr>\n",
       "      <th>0</th>\n",
       "      <td>13807224</td>\n",
       "      <td>4</td>\n",
       "      <td>1204576</td>\n",
       "      <td>1</td>\n",
       "      <td>0</td>\n",
       "      <td>f</td>\n",
       "      <td>2013-04-05</td>\n",
       "      <td>5616</td>\n",
       "      <td>1</td>\n",
       "      <td>104610040</td>\n",
       "      <td>...</td>\n",
       "      <td>0</td>\n",
       "      <td>0</td>\n",
       "      <td>0</td>\n",
       "      <td>0</td>\n",
       "      <td>1</td>\n",
       "      <td>0</td>\n",
       "      <td>0</td>\n",
       "      <td>0</td>\n",
       "      <td>0</td>\n",
       "      <td>0</td>\n",
       "    </tr>\n",
       "    <tr>\n",
       "      <th>1</th>\n",
       "      <td>16138642</td>\n",
       "      <td>4</td>\n",
       "      <td>1204576</td>\n",
       "      <td>1</td>\n",
       "      <td>0</td>\n",
       "      <td>f</td>\n",
       "      <td>2013-04-05</td>\n",
       "      <td>5616</td>\n",
       "      <td>1</td>\n",
       "      <td>104610040</td>\n",
       "      <td>...</td>\n",
       "      <td>0</td>\n",
       "      <td>0</td>\n",
       "      <td>0</td>\n",
       "      <td>0</td>\n",
       "      <td>1</td>\n",
       "      <td>0</td>\n",
       "      <td>0</td>\n",
       "      <td>0</td>\n",
       "      <td>0</td>\n",
       "      <td>0</td>\n",
       "    </tr>\n",
       "    <tr>\n",
       "      <th>2</th>\n",
       "      <td>17888308</td>\n",
       "      <td>4</td>\n",
       "      <td>1204576</td>\n",
       "      <td>1</td>\n",
       "      <td>0</td>\n",
       "      <td>f</td>\n",
       "      <td>2013-04-05</td>\n",
       "      <td>5616</td>\n",
       "      <td>1</td>\n",
       "      <td>104610040</td>\n",
       "      <td>...</td>\n",
       "      <td>0</td>\n",
       "      <td>0</td>\n",
       "      <td>0</td>\n",
       "      <td>0</td>\n",
       "      <td>1</td>\n",
       "      <td>0</td>\n",
       "      <td>0</td>\n",
       "      <td>0</td>\n",
       "      <td>0</td>\n",
       "      <td>0</td>\n",
       "    </tr>\n",
       "    <tr>\n",
       "      <th>3</th>\n",
       "      <td>18277411</td>\n",
       "      <td>4</td>\n",
       "      <td>1204576</td>\n",
       "      <td>1</td>\n",
       "      <td>0</td>\n",
       "      <td>f</td>\n",
       "      <td>2013-04-04</td>\n",
       "      <td>5616</td>\n",
       "      <td>1</td>\n",
       "      <td>104610040</td>\n",
       "      <td>...</td>\n",
       "      <td>0</td>\n",
       "      <td>0</td>\n",
       "      <td>0</td>\n",
       "      <td>0</td>\n",
       "      <td>1</td>\n",
       "      <td>0</td>\n",
       "      <td>0</td>\n",
       "      <td>0</td>\n",
       "      <td>0</td>\n",
       "      <td>0</td>\n",
       "    </tr>\n",
       "    <tr>\n",
       "      <th>4</th>\n",
       "      <td>68451850</td>\n",
       "      <td>4</td>\n",
       "      <td>1204576</td>\n",
       "      <td>1</td>\n",
       "      <td>0</td>\n",
       "      <td>f</td>\n",
       "      <td>2013-04-07</td>\n",
       "      <td>5616</td>\n",
       "      <td>1</td>\n",
       "      <td>104610040</td>\n",
       "      <td>...</td>\n",
       "      <td>0</td>\n",
       "      <td>0</td>\n",
       "      <td>0</td>\n",
       "      <td>0</td>\n",
       "      <td>1</td>\n",
       "      <td>0</td>\n",
       "      <td>0</td>\n",
       "      <td>0</td>\n",
       "      <td>0</td>\n",
       "      <td>0</td>\n",
       "    </tr>\n",
       "  </tbody>\n",
       "</table>\n",
       "<p>5 rows × 82 columns</p>\n",
       "</div>"
      ],
      "text/plain": [
       "         id  chain    offer  market  repeattrips repeater   offerdate  \\\n",
       "0  13807224      4  1204576       1            0        f  2013-04-05   \n",
       "1  16138642      4  1204576       1            0        f  2013-04-05   \n",
       "2  17888308      4  1204576       1            0        f  2013-04-05   \n",
       "3  18277411      4  1204576       1            0        f  2013-04-04   \n",
       "4  68451850      4  1204576       1            0        f  2013-04-07   \n",
       "\n",
       "   category  quantity    company     ...      company_106414464  \\\n",
       "0      5616         1  104610040     ...                      0   \n",
       "1      5616         1  104610040     ...                      0   \n",
       "2      5616         1  104610040     ...                      0   \n",
       "3      5616         1  104610040     ...                      0   \n",
       "4      5616         1  104610040     ...                      0   \n",
       "\n",
       "   company_104460040  company_103320030  company_107717272  brand_15889  \\\n",
       "0                  0                  0                  0            1   \n",
       "1                  0                  0                  0            1   \n",
       "2                  0                  0                  0            1   \n",
       "3                  0                  0                  0            1   \n",
       "4                  0                  0                  0            1   \n",
       "\n",
       "   brand_13474  brand_3718  brand_875  brand_102504  brand_7668  \n",
       "0            0           0          0             0           0  \n",
       "1            0           0          0             0           0  \n",
       "2            0           0          0             0           0  \n",
       "3            0           0          0             0           0  \n",
       "4            0           0          0             0           0  \n",
       "\n",
       "[5 rows x 82 columns]"
      ]
     },
     "execution_count": 392,
     "metadata": {},
     "output_type": "execute_result"
    }
   ],
   "source": [
    "X_features.head()"
   ]
  },
  {
   "cell_type": "code",
   "execution_count": 393,
   "metadata": {
    "collapsed": false
   },
   "outputs": [
    {
     "data": {
      "text/plain": [
       "(1753, 82)"
      ]
     },
     "execution_count": 393,
     "metadata": {},
     "output_type": "execute_result"
    }
   ],
   "source": [
    "X_features.shape"
   ]
  },
  {
   "cell_type": "markdown",
   "metadata": {},
   "source": [
    "### Implementing Algorithms <a name='Implementing Algorithms' />\n",
    "\n",
    "- Let Y_features equals 'repater'\n",
    "- Drop unnecessary features in X_features ('id','chain','offer','category','company','brand','repeater','repeattrips','offerdate')\n",
    "- Split the data into training and test sets\n",
    "- Implement logistic regression with different regularization parameters and check AUC score\n",
    "- Implement Random Forest with 200 estimators and check AUC score\n",
    "- Implement XGBoost and Tune The Number of Trees and Max Depth in XGBoost. Then check AUC score\n",
    "\n",
    "**Conclusion**: Highest AUC score is for XGBoost algorithm with max_depth=6 and n_estimators=4, which is 59.911%."
   ]
  },
  {
   "cell_type": "code",
   "execution_count": 395,
   "metadata": {
    "collapsed": false
   },
   "outputs": [],
   "source": [
    "#Predction using Scikit learn\n",
    "from sklearn.ensemble import RandomForestClassifier\n",
    "from sklearn.linear_model import LogisticRegression\n",
    "from sklearn.cross_validation import train_test_split\n",
    "from sklearn.metrics import roc_auc_score\n",
    "from sklearn import metrics\n",
    "#from sklearn.feature_selection import f_classif, SelectKBest\n",
    "#from sklearn.pipeline import Pipeline"
   ]
  },
  {
   "cell_type": "code",
   "execution_count": 396,
   "metadata": {
    "collapsed": false
   },
   "outputs": [
    {
     "name": "stderr",
     "output_type": "stream",
     "text": [
      "/Users/Frank/anaconda/lib/python2.7/site-packages/ipykernel/__main__.py:2: SettingWithCopyWarning: \n",
      "A value is trying to be set on a copy of a slice from a DataFrame.\n",
      "Try using .loc[row_indexer,col_indexer] = value instead\n",
      "\n",
      "See the caveats in the documentation: http://pandas.pydata.org/pandas-docs/stable/indexing.html#indexing-view-versus-copy\n",
      "  from ipykernel import kernelapp as app\n"
     ]
    }
   ],
   "source": [
    "Y_features = X_features[['id','repeater']]\n",
    "Y_features['repeater'] = 1 * (Y_features['repeater'] == 't')\n",
    "X_features.drop(['id','chain','offer','category','company','brand','repeater','repeattrips','offerdate'],axis=1,inplace=True)"
   ]
  },
  {
   "cell_type": "code",
   "execution_count": 397,
   "metadata": {
    "collapsed": false
   },
   "outputs": [],
   "source": [
    "# Split the data into training and test sets\n",
    "X_train,X_test,Y_train,Y_test=train_test_split(X_features,Y_features.repeater,test_size=0.5,random_state=3)"
   ]
  },
  {
   "cell_type": "code",
   "execution_count": 398,
   "metadata": {
    "collapsed": false
   },
   "outputs": [
    {
     "name": "stdout",
     "output_type": "stream",
     "text": [
      "AUC score for C=0.030 is: 56.928%\n",
      "AUC score for C=0.090 is: 55.318%\n",
      "AUC score for C=0.270 is: 54.072%\n",
      "AUC score for C=0.810 is: 53.636%\n",
      "AUC score for C=1.000 is: 52.887%\n",
      "AUC score for C=3.000 is: 50.263%\n",
      "AUC score for C=9.000 is: 50.512%\n",
      "AUC score for C=27.000 is: 50.546%\n",
      "AUC score for C=81.000 is: 51.793%\n",
      "AUC score for C=243.000 is: 49.861%\n"
     ]
    }
   ],
   "source": [
    "###### Logistic Regression ######\n",
    "## regularization parameter\n",
    "C = [0.03,0.09,0.27,0.81,1.0,3.0,9.0,27.0,81.0,243.0]\n",
    "\n",
    "for i in C:\n",
    "    model = LogisticRegression(C=i) # Create a logistic regression class object\n",
    "    model.fit(X_train,Y_train) # Train the model\n",
    "    Y_pred = model.predict(X_test) # Prediction from X_test\n",
    "    prob = model.predict_proba(X_test)\n",
    "    score = roc_auc_score(Y_test,prob[:,1])\n",
    "    print 'AUC score for C={0:.3f} is: {1:.3%}'.format(i,score)"
   ]
  },
  {
   "cell_type": "code",
   "execution_count": 399,
   "metadata": {
    "collapsed": false
   },
   "outputs": [
    {
     "data": {
      "text/plain": [
       "RandomForestClassifier(bootstrap=True, class_weight=None, criterion='gini',\n",
       "            max_depth=None, max_features='auto', max_leaf_nodes=None,\n",
       "            min_impurity_split=1e-07, min_samples_leaf=1,\n",
       "            min_samples_split=2, min_weight_fraction_leaf=0.0,\n",
       "            n_estimators=200, n_jobs=1, oob_score=False, random_state=None,\n",
       "            verbose=0, warm_start=False)"
      ]
     },
     "execution_count": 399,
     "metadata": {},
     "output_type": "execute_result"
    }
   ],
   "source": [
    "###### Random Forest ######\n",
    "rf = RandomForestClassifier(n_estimators=200)\n",
    "\n",
    "rf.fit(X_train,Y_train)"
   ]
  },
  {
   "cell_type": "code",
   "execution_count": 400,
   "metadata": {
    "collapsed": false
   },
   "outputs": [
    {
     "name": "stdout",
     "output_type": "stream",
     "text": [
      "AUC score is: 53.665%\n"
     ]
    }
   ],
   "source": [
    "#AUC score\n",
    "score = roc_auc_score(Y_test, rf.predict_proba(X_test)[:,1])\n",
    "\n",
    "print 'AUC score is: {0:.3%}'.format(score)"
   ]
  },
  {
   "cell_type": "code",
   "execution_count": 401,
   "metadata": {
    "collapsed": false
   },
   "outputs": [
    {
     "data": {
      "text/plain": [
       "array([ 0.23 ,  0.29 ,  0.29 ,  0.28 ,  0.   ,  0.035,  0.275,  0.25 ,\n",
       "        0.405,  0.17 ])"
      ]
     },
     "execution_count": 401,
     "metadata": {},
     "output_type": "execute_result"
    }
   ],
   "source": [
    "#Probability that a customer repeat-purchased\n",
    "prob = rf.predict_proba(X_test)[:,1]\n",
    "\n",
    "prob[:10]"
   ]
  },
  {
   "cell_type": "code",
   "execution_count": 402,
   "metadata": {
    "collapsed": false
   },
   "outputs": [],
   "source": [
    "###### XGBoost ######\n",
    "from xgboost.sklearn import XGBClassifier\n",
    "from sklearn.metrics import accuracy_score\n",
    "from sklearn.metrics import roc_auc_score\n"
   ]
  },
  {
   "cell_type": "code",
   "execution_count": 403,
   "metadata": {
    "collapsed": true
   },
   "outputs": [],
   "source": [
    "params = {\n",
    "    'objective': 'binary:logistic',\n",
    "    'max_depth': 6,\n",
    "    'learning_rate': 1.0,\n",
    "    'silent': 1.0,\n",
    "    'n_estimators': 4\n",
    "}"
   ]
  },
  {
   "cell_type": "code",
   "execution_count": 404,
   "metadata": {
    "collapsed": false
   },
   "outputs": [],
   "source": [
    "bst = XGBClassifier(**params).fit(X_train, Y_train)"
   ]
  },
  {
   "cell_type": "code",
   "execution_count": 405,
   "metadata": {
    "collapsed": false
   },
   "outputs": [
    {
     "name": "stdout",
     "output_type": "stream",
     "text": [
      "AUC score is: 59.911%\n"
     ]
    }
   ],
   "source": [
    "prob = bst.predict_proba(X_test)[:,1]\n",
    "\n",
    "score = roc_auc_score(Y_test,prob)\n",
    "\n",
    "print 'AUC score is: {0:.3%}'.format(score)"
   ]
  },
  {
   "cell_type": "code",
   "execution_count": 406,
   "metadata": {
    "collapsed": false
   },
   "outputs": [
    {
     "name": "stdout",
     "output_type": "stream",
     "text": [
      "Predicted correctly: 641/877\n",
      "Error: 0.2691\n"
     ]
    }
   ],
   "source": [
    "#Predicted Correctly\n",
    "preds = bst.predict(X_test)\n",
    "preds\n",
    "\n",
    "correct = 0\n",
    "for i in range(len(preds)):\n",
    "    if (Y_test.iloc[i] == preds[i]):\n",
    "        correct += 1\n",
    "        \n",
    "acc = accuracy_score(Y_test, preds)\n",
    "\n",
    "print('Predicted correctly: {0}/{1}'.format(correct, len(preds)))\n",
    "print('Error: {0:.4f}'.format(1-acc))\n"
   ]
  },
  {
   "cell_type": "code",
   "execution_count": 342,
   "metadata": {
    "collapsed": true
   },
   "outputs": [],
   "source": [
    "##########################################"
   ]
  },
  {
   "cell_type": "code",
   "execution_count": 407,
   "metadata": {
    "collapsed": false
   },
   "outputs": [
    {
     "name": "stdout",
     "output_type": "stream",
     "text": [
      "[2, 4, 6, 8]\n",
      "Fitting 10 folds for each of 20 candidates, totalling 200 fits\n",
      "Best: 0.581058 using {'n_estimators': 6, 'max_depth': 8}\n",
      "0.541174 (0.048976) with: {'n_estimators': 4, 'max_depth': 2}\n",
      "0.552827 (0.064418) with: {'n_estimators': 5, 'max_depth': 2}\n",
      "0.558397 (0.066919) with: {'n_estimators': 6, 'max_depth': 2}\n",
      "0.561882 (0.065654) with: {'n_estimators': 7, 'max_depth': 2}\n",
      "0.573469 (0.063685) with: {'n_estimators': 8, 'max_depth': 2}\n",
      "0.565818 (0.058823) with: {'n_estimators': 4, 'max_depth': 4}\n",
      "0.568423 (0.060861) with: {'n_estimators': 5, 'max_depth': 4}\n",
      "0.566617 (0.071137) with: {'n_estimators': 6, 'max_depth': 4}\n",
      "0.569136 (0.059158) with: {'n_estimators': 7, 'max_depth': 4}\n",
      "0.574080 (0.061980) with: {'n_estimators': 8, 'max_depth': 4}\n",
      "0.579962 (0.060417) with: {'n_estimators': 4, 'max_depth': 6}\n",
      "0.572971 (0.060699) with: {'n_estimators': 5, 'max_depth': 6}\n",
      "0.571932 (0.055586) with: {'n_estimators': 6, 'max_depth': 6}\n",
      "0.572931 (0.046067) with: {'n_estimators': 7, 'max_depth': 6}\n",
      "0.573797 (0.048111) with: {'n_estimators': 8, 'max_depth': 6}\n",
      "0.574187 (0.038651) with: {'n_estimators': 4, 'max_depth': 8}\n",
      "0.576818 (0.037599) with: {'n_estimators': 5, 'max_depth': 8}\n",
      "0.581058 (0.041451) with: {'n_estimators': 6, 'max_depth': 8}\n",
      "0.570150 (0.051155) with: {'n_estimators': 7, 'max_depth': 8}\n",
      "0.569340 (0.049740) with: {'n_estimators': 8, 'max_depth': 8}\n"
     ]
    },
    {
     "name": "stderr",
     "output_type": "stream",
     "text": [
      "[Parallel(n_jobs=-1)]: Done 200 out of 200 | elapsed:    2.4s finished\n"
     ]
    },
    {
     "data": {
      "text/plain": [
       "<matplotlib.text.Text at 0x123478a50>"
      ]
     },
     "execution_count": 407,
     "metadata": {},
     "output_type": "execute_result"
    },
    {
     "data": {
      "image/png": "[encoded data removed]",
      "text/plain": [
       "<matplotlib.figure.Figure at 0x122ac91d0>"
      ]
     },
     "metadata": {},
     "output_type": "display_data"
    }
   ],
   "source": [
    "#Tune The Number of Trees and Max Depth in XGBoost (cross-validation)\n",
    "from pandas import read_csv\n",
    "from xgboost import XGBClassifier\n",
    "from sklearn.model_selection import GridSearchCV\n",
    "from sklearn.model_selection import StratifiedKFold\n",
    "from sklearn.preprocessing import LabelEncoder\n",
    "import matplotlib\n",
    "%matplotlib inline\n",
    "from matplotlib import pyplot\n",
    "import numpy\n",
    "\n",
    "\n",
    "# grid search\n",
    "model = XGBClassifier()\n",
    "n_estimators = [4, 5, 6, 7, 8]\n",
    "max_depth = [2, 4, 6, 8]\n",
    "print(max_depth)\n",
    "param_grid = dict(max_depth=max_depth, n_estimators=n_estimators)\n",
    "kfold = StratifiedKFold(n_splits=10, shuffle=True, random_state=7)\n",
    "grid_search = GridSearchCV(model, param_grid, scoring=\"roc_auc\", n_jobs=-1, cv=kfold, verbose=1)\n",
    "grid_result = grid_search.fit(X_test, Y_test)\n",
    "# summarize results\n",
    "print(\"Best: %f using %s\" % (grid_result.best_score_, grid_result.best_params_))\n",
    "means = grid_result.cv_results_['mean_test_score']\n",
    "stds = grid_result.cv_results_['std_test_score']\n",
    "params = grid_result.cv_results_['params']\n",
    "for mean, stdev, param in zip(means, stds, params):\n",
    "    print(\"%f (%f) with: %r\" % (mean, stdev, param))\n",
    "# plot results\n",
    "scores = numpy.array(means).reshape(len(max_depth), len(n_estimators))\n",
    "for i, value in enumerate(max_depth):\n",
    "    pyplot.plot(n_estimators, scores[i], label='depth: ' + str(value))\n",
    "pyplot.legend()\n",
    "pyplot.xlabel('n_estimators')\n",
    "pyplot.ylabel('Log Loss')\n"
   ]
  },
  {
   "cell_type": "code",
   "execution_count": null,
   "metadata": {
    "collapsed": true
   },
   "outputs": [],
   "source": []
  }
 ],
 "metadata": {
  "anaconda-cloud": {},
  "kernelspec": {
   "display_name": "Python [conda root]",
   "language": "python",
   "name": "conda-root-py"
  },
  "language_info": {
   "codemirror_mode": {
    "name": "ipython",
    "version": 2
   },
   "file_extension": ".py",
   "mimetype": "text/x-python",
   "name": "python",
   "nbconvert_exporter": "python",
   "pygments_lexer": "ipython2",
   "version": "2.7.13"
  }
 },
 "nbformat": 4,
 "nbformat_minor": 1
}
